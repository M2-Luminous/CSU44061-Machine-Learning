{
 "cells": [
  {
   "cell_type": "markdown",
   "metadata": {},
   "source": [
    "Import necessary libraries"
   ]
  },
  {
   "cell_type": "code",
   "execution_count": 1,
   "metadata": {},
   "outputs": [],
   "source": [
    "import numpy as np\n",
    "from PIL import Image\n",
    "import tensorflow as tf\n",
    "from tensorflow import keras\n",
    "from tensorflow.keras import layers, regularizers\n",
    "from keras.layers import Dense, Dropout, Activation, Flatten, BatchNormalization\n",
    "from keras.layers import Conv2D, MaxPooling2D, LeakyReLU\n",
    "from sklearn.metrics import confusion_matrix, classification_report\n",
    "from sklearn.utils import shuffle\n",
    "import matplotlib.pyplot as plt\n",
    "import time"
   ]
  },
  {
   "cell_type": "markdown",
   "metadata": {},
   "source": [
    "Question i(a)"
   ]
  },
  {
   "cell_type": "code",
   "execution_count": 2,
   "metadata": {},
   "outputs": [
    {
     "name": "stdout",
     "output_type": "stream",
     "text": [
      "1 2 3\n",
      "4 4 4\n",
      "7 4 4\n"
     ]
    }
   ],
   "source": [
    "def convolve2D(input_array, kernel):\n",
    "    \n",
    "    # Dimensions of input and kernel\n",
    "    n = len(input_array)\n",
    "    k = len(kernel)\n",
    "\n",
    "    # Padding size\n",
    "    padding_size = k // 2\n",
    "\n",
    "    # Padding the input array\n",
    "    padded_array = [[0 for _ in range(n + 2 * padding_size)] for _ in range(n + 2 * padding_size)]\n",
    "    for i in range(n):\n",
    "        for j in range(n):\n",
    "            padded_array[i + padding_size][j + padding_size] = input_array[i][j]\n",
    "\n",
    "    # Initialize the output array\n",
    "    output = [[0 for _ in range(n)] for _ in range(n)]\n",
    "\n",
    "    # Convolution operation\n",
    "    for i in range(n):\n",
    "        for j in range(n):\n",
    "            sum = 0\n",
    "            for di in range(k):\n",
    "                for dj in range(k):\n",
    "                    sum += padded_array[i + di][j + dj] * kernel[di][dj]\n",
    "            output[i][j] = sum\n",
    "\n",
    "    return output\n",
    "\n",
    "# Example input array (3x3)\n",
    "input_array = [\n",
    "    [1, 2, 3],\n",
    "    [4, 5, 6],\n",
    "    [7, 8, 9]\n",
    "]\n",
    "\n",
    "# Example kernel (2x2)\n",
    "kernel = [\n",
    "    [-1, 0],\n",
    "    [0, 1]\n",
    "]\n",
    "\n",
    "# Perform convolution\n",
    "output_array = convolve2D(input_array, kernel)\n",
    "\n",
    "# Print the output array\n",
    "for row in output_array:\n",
    "    print(' '.join(map(str, row)))"
   ]
  },
  {
   "cell_type": "markdown",
   "metadata": {},
   "source": [
    "Convolution in 2D: This operation is widely used in image processing and involves sliding the kernel over the input array (image), multiplying          overlapping elements, and summing these products to form a new array (filtered image).\n",
    "\n",
    "Purpose: It's used for various purposes like edge detection, blurring, sharpening, and more in image processing.\n",
    "\n",
    "Padding: Padding is crucial for handling the edges of the input array. Without padding, the size of the output array would be smaller than the input array, or the edges of the input array would not be properly processed.\n",
    "\n",
    "Kernel Size: The choice of kernel size and values significantly affects the result of the convolution. Different kernels can extract different features from the input array."
   ]
  },
  {
   "cell_type": "markdown",
   "metadata": {},
   "source": [
    "Question i(b)"
   ]
  },
  {
   "cell_type": "code",
   "execution_count": 4,
   "metadata": {},
   "outputs": [],
   "source": [
    "from PIL import Image\n",
    "import numpy as np\n",
    "\n",
    "# Define the convolution function\n",
    "def convolve2D(input_array, kernel):\n",
    "    n = len(input_array)\n",
    "    k = len(kernel)\n",
    "\n",
    "    # Padding size for 'same' convolution result\n",
    "    padding_size = (k - 1) // 2\n",
    "\n",
    "    # Padding the input array with zeros around the border\n",
    "    padded_array = np.pad(input_array, [(padding_size, padding_size), (padding_size, padding_size)], mode='constant')\n",
    "\n",
    "    # Initialize the output array with zeros\n",
    "    output = np.zeros_like(input_array)\n",
    "\n",
    "    # Perform convolution\n",
    "    for i in range(n):\n",
    "        for j in range(n):\n",
    "            # Element-wise multiplication and sum\n",
    "            output[i, j] = (kernel * padded_array[i:i+k, j:j+k]).sum()\n",
    "\n",
    "    return output\n",
    "\n",
    "# Load the image\n",
    "im = Image.open('wings_of_liberty.png')\n",
    "\n",
    "# Ensure the image is not too large, resize if it's larger than 200x200 pixels\n",
    "if im.size[0] > 200 or im.size[1] > 200:\n",
    "    im = im.resize((200, 200))\n",
    "\n",
    "# Convert the image to a NumPy array\n",
    "rgb = np.array(im.convert('RGB'))\n",
    "\n",
    "# Extract the red channel\n",
    "r_channel = rgb[:,:,0]\n",
    "\n",
    "# Define the kernels\n",
    "kernel1 = np.array([[-1, -1, -1],\n",
    "                    [-1,  8, -1],\n",
    "                    [-1, -1, -1]])\n",
    "\n",
    "kernel2 = np.array([[ 0, -1,  0],\n",
    "                    [-1,  8, -1],\n",
    "                    [ 0, -1,  0]])\n",
    "\n",
    "# Perform convolution with kernel1\n",
    "output_array1 = convolve2D(r_channel, kernel1)\n",
    "\n",
    "# Perform convolution with kernel2\n",
    "output_array2 = convolve2D(r_channel, kernel2)\n",
    "\n",
    "# Convert the output arrays to uint8 to display as images\n",
    "output_image1 = Image.fromarray(np.uint8(output_array1))\n",
    "output_image2 = Image.fromarray(np.uint8(output_array2))\n",
    "\n",
    "# Save the output images\n",
    "output_image1.save('wings_of_liberty_convolved_kernel1.png')\n",
    "output_image2.save('wings_of_liberty_convolved_kernel2.png')"
   ]
  },
  {
   "cell_type": "markdown",
   "metadata": {},
   "source": [
    "Load the Image: The image wings_of_liberty.jpg is loaded from the file system. If the image is larger than 200x200 pixels, it is resized to ensure the convolution operation is not too computationally expensive.\n",
    "\n",
    "Convert to NumPy Array: The image is converted to a NumPy array to facilitate easy manipulation. Each pixel in an image has three channels (Red, Green, Blue), and these are represented in the array.\n",
    "\n",
    "Extract Red Channel: The script extracts only the red channel of the image because the convolution is being applied to a single channel for demonstration purposes.\n",
    "\n",
    "Define Kernels: Two kernels are defined (kernel1 and kernel2). These are matrices that determine the nature of the convolution operation. kernel1 is a sharpening kernel, and kernel2 is an edge detection kernel."
   ]
  },
  {
   "cell_type": "markdown",
   "metadata": {},
   "source": [
    "Invoke-WebRequest -Uri \"https://www.scss.tcd.ie/Doug.Leith/CSU44061/week8.py\" -OutFile \"week8.py\""
   ]
  }
 ],
 "metadata": {
  "kernelspec": {
   "display_name": "Python 3",
   "language": "python",
   "name": "python3"
  },
  "language_info": {
   "codemirror_mode": {
    "name": "ipython",
    "version": 3
   },
   "file_extension": ".py",
   "mimetype": "text/x-python",
   "name": "python",
   "nbconvert_exporter": "python",
   "pygments_lexer": "ipython3",
   "version": "3.11.0"
  }
 },
 "nbformat": 4,
 "nbformat_minor": 2
}
